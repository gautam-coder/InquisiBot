{
  "nbformat": 4,
  "nbformat_minor": 0,
  "metadata": {
    "colab": {
      "provenance": [],
      "authorship_tag": "ABX9TyNwias8AHuh6kla1qhqeEUk",
      "include_colab_link": true
    },
    "kernelspec": {
      "name": "python3",
      "display_name": "Python 3"
    },
    "language_info": {
      "name": "python"
    }
  },
  "cells": [
    {
      "cell_type": "markdown",
      "metadata": {
        "id": "view-in-github",
        "colab_type": "text"
      },
      "source": [
        "<a href=\"https://colab.research.google.com/github/gautam-coder/InquisiBot/blob/main/InquisiBot.ipynb\" target=\"_parent\"><img src=\"https://colab.research.google.com/assets/colab-badge.svg\" alt=\"Open In Colab\"/></a>"
      ]
    },
    {
      "cell_type": "markdown",
      "source": [
        "# **InquisiBot**"
      ],
      "metadata": {
        "id": "vIk_OaRmluj8"
      }
    },
    {
      "cell_type": "code",
      "source": [
        "!pip install google-search-results\n",
        "!pip install langchain\n",
        "!python -m spacy download en\n"
      ],
      "metadata": {
        "id": "hJuj5Q-jKEla"
      },
      "execution_count": null,
      "outputs": []
    },
    {
      "cell_type": "code",
      "source": [
        "import os\n",
        "\n",
        "os.environ[\"GOOGLE_CSE_ID\"] = ''\n",
        "os.environ[\"GOOGLE_API_KEY\"] = \"\"\n"
      ],
      "metadata": {
        "id": "cl_qrD4gKOBh"
      },
      "execution_count": null,
      "outputs": []
    },
    {
      "cell_type": "code",
      "source": [
        "import langchain\n",
        "import spacy\n",
        "from transformers import pipeline\n",
        "from langchain.tools import Tool\n",
        "from langchain.utilities import GoogleSearchAPIWrapper\n",
        "\n",
        "search = GoogleSearchAPIWrapper()\n",
        "\n",
        "tool = Tool(\n",
        "    name=\"Google Search\",\n",
        "    description=\"Answer\",\n",
        "    func=search.run,\n",
        ")\n",
        "\n",
        "nlp = spacy.load(\"en_core_web_sm\")  # For entity extraction\n",
        "summarizer = pipeline(\"summarization\")  # For text summarization\n",
        "def answer_with_nlp(query):\n",
        "    # Retrieve initial response from Google Search\n",
        "    text = tool.run(query)\n",
        "\n",
        "    # Extract key entities\n",
        "    doc = nlp(text)\n",
        "    entities = [ent.text for ent in doc.ents]\n",
        "\n",
        "    # Summarize relevant parts\n",
        "    summary = summarizer(text, max_length=100, min_length=30)[0][\"summary_text\"]\n",
        "\n",
        "\n",
        "    return summary, entities\n",
        "\n",
        "# Example usage\n",
        "query = \"how i do\"\n",
        "summary, entities= answer_with_nlp(query)\n",
        "print(summary)\n",
        "#print(entities)"
      ],
      "metadata": {
        "colab": {
          "base_uri": "https://localhost:8080/"
        },
        "id": "T1Zr7alNYu3y",
        "outputId": "9b849241-cdbb-4675-c8bf-1a63f0c02b17",
        "cellView": "code"
      },
      "execution_count": null,
      "outputs": [
        {
          "output_type": "stream",
          "name": "stderr",
          "text": [
            "No model was supplied, defaulted to sshleifer/distilbart-cnn-12-6 and revision a4f8f3e (https://huggingface.co/sshleifer/distilbart-cnn-12-6).\n",
            "Using a pipeline without specifying a model name and revision in production is not recommended.\n"
          ]
        },
        {
          "output_type": "stream",
          "name": "stdout",
          "text": [
            " ASRA Pain Medicine members share how they perform common procedures and accomplish other tasks . \"How I Do It\" is the debut studio album by American singer Res. It was co-written by Santi White and produced by Martin \"Doc\" McKinney .\n"
          ]
        }
      ]
    },
    {
      "cell_type": "code",
      "source": [],
      "metadata": {
        "id": "R2EXUmjfchcz"
      },
      "execution_count": null,
      "outputs": []
    }
  ]
}